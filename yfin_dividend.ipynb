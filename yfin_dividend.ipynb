{
 "cells": [
  {
   "cell_type": "code",
   "execution_count": 141,
   "id": "initial_id",
   "metadata": {
    "ExecuteTime": {
     "end_time": "2025-02-04T19:07:56.057884Z",
     "start_time": "2025-02-04T19:07:56.051981Z"
    },
    "collapsed": true
   },
   "outputs": [],
   "source": [
    "import pandas as pd\n",
    "import yfinance as yf\n",
    "import datetime as dt\n",
    "from pprint import pprint\n"
   ]
  },
  {
   "cell_type": "code",
   "execution_count": 2,
   "id": "317bc8f6bc03c6ca",
   "metadata": {
    "ExecuteTime": {
     "end_time": "2025-02-04T19:09:19.578178Z",
     "start_time": "2025-02-04T19:09:19.172999Z"
    }
   },
   "outputs": [
    {
     "ename": "NameError",
     "evalue": "name 'pd' is not defined",
     "output_type": "error",
     "traceback": [
      "\u001b[0;31m---------------------------------------------------------------------------\u001b[0m",
      "\u001b[0;31mNameError\u001b[0m                                 Traceback (most recent call last)",
      "Cell \u001b[0;32mIn[2], line 2\u001b[0m\n\u001b[1;32m      1\u001b[0m \u001b[38;5;66;03m#test \u001b[39;00m\n\u001b[0;32m----> 2\u001b[0m tickers \u001b[38;5;241m=\u001b[39m \u001b[43mpd\u001b[49m\u001b[38;5;241m.\u001b[39mread_html(\u001b[38;5;124m'\u001b[39m\u001b[38;5;124mhttps://en.wikipedia.org/wiki/Dow_Jones_Industrial_Average\u001b[39m\u001b[38;5;124m'\u001b[39m)[\u001b[38;5;241m2\u001b[39m]\n",
      "\u001b[0;31mNameError\u001b[0m: name 'pd' is not defined"
     ]
    }
   ],
   "source": [
    "#test \n",
    "tickers = pd.read_html('https://en.wikipedia.org/wiki/Dow_Jones_Industrial_Average')[2]\n"
   ]
  },
  {
   "cell_type": "code",
   "execution_count": null,
   "id": "b5eba362d94a1b2c",
   "metadata": {},
   "outputs": [],
   "source": [
    "#для файла на работе \n",
    "#tickers = pd.read_excel(r\"Z:\\DerivativesDesk\\Mogutasimov\\tickers\\only_us_for_div.xlsx\", usecols=['Ticker'])\n",
    "#tickers = tickers['Ticker'].tolist()\n"
   ]
  },
  {
   "cell_type": "code",
   "execution_count": 143,
   "id": "21ec71fa7588a62e",
   "metadata": {
    "ExecuteTime": {
     "end_time": "2025-02-04T19:07:57.226323Z",
     "start_time": "2025-02-04T19:07:57.224253Z"
    }
   },
   "outputs": [],
   "source": [
    "tickers = tickers.Symbol.to_list()"
   ]
  },
  {
   "cell_type": "code",
   "execution_count": 144,
   "id": "de9e011336c02140",
   "metadata": {
    "ExecuteTime": {
     "end_time": "2025-02-04T19:07:58.245059Z",
     "start_time": "2025-02-04T19:07:58.241765Z"
    }
   },
   "outputs": [
    {
     "name": "stdout",
     "output_type": "stream",
     "text": [
      "['MMM', 'AXP', 'AMGN', 'AMZN', 'AAPL', 'BA', 'CAT', 'CVX', 'CSCO', 'KO', 'DIS', 'GS', 'HD', 'HON', 'IBM', 'JNJ', 'JPM', 'MCD', 'MRK', 'MSFT', 'NKE', 'NVDA', 'PG', 'CRM', 'SHW', 'TRV', 'UNH', 'VZ', 'V', 'WMT']\n"
     ]
    }
   ],
   "source": [
    "print(tickers)"
   ]
  },
  {
   "cell_type": "code",
   "execution_count": 145,
   "id": "d6fc86fb4a2f3d20",
   "metadata": {
    "ExecuteTime": {
     "end_time": "2025-02-04T19:08:04.635759Z",
     "start_time": "2025-02-04T19:07:59.539882Z"
    }
   },
   "outputs": [],
   "source": [
    "divs = []\n",
    "\n",
    "for i in tickers:\n",
    "    inst = yf.Ticker(i)\n",
    "    inst.history(period = '1y')\n",
    "    divs.append(inst.dividends)"
   ]
  },
  {
   "cell_type": "code",
   "execution_count": 146,
   "id": "891b78101ba009f5",
   "metadata": {
    "ExecuteTime": {
     "end_time": "2025-02-04T19:08:08.675917Z",
     "start_time": "2025-02-04T19:08:08.663949Z"
    }
   },
   "outputs": [],
   "source": [
    "df = pd.DataFrame(divs, index = tickers)"
   ]
  },
  {
   "cell_type": "code",
   "execution_count": 147,
   "id": "3e976a6ccee99d0d",
   "metadata": {
    "ExecuteTime": {
     "end_time": "2025-02-04T19:08:09.611480Z",
     "start_time": "2025-02-04T19:08:09.608305Z"
    }
   },
   "outputs": [],
   "source": [
    "df.columns = df.columns.month"
   ]
  },
  {
   "cell_type": "code",
   "execution_count": 148,
   "id": "cef7f6d8a1c65806",
   "metadata": {
    "ExecuteTime": {
     "end_time": "2025-02-04T19:08:10.974267Z",
     "start_time": "2025-02-04T19:08:10.968849Z"
    }
   },
   "outputs": [
    {
     "name": "stderr",
     "output_type": "stream",
     "text": [
      "/var/folders/q8/pbxy1hw50nq1k9y3dq3dc_n40000gn/T/ipykernel_78147/2406969025.py:1: FutureWarning: DataFrame.groupby with axis=1 is deprecated. Do `frame.T.groupby(...)` without axis instead.\n",
      "  df = df.groupby(df.columns, axis=1).sum()\n"
     ]
    }
   ],
   "source": [
    "df = df.groupby(df.columns, axis=1).sum()"
   ]
  },
  {
   "cell_type": "code",
   "execution_count": 149,
   "id": "3afe9955c50a0cd4",
   "metadata": {
    "ExecuteTime": {
     "end_time": "2025-02-04T19:08:12.278872Z",
     "start_time": "2025-02-04T19:08:12.267977Z"
    }
   },
   "outputs": [
    {
     "name": "stdout",
     "output_type": "stream",
     "text": [
      "        Jan       Feb    Mar    Apr    May    Jun    Jul    Aug    Sep    Oct  \\\n",
      "MMM   0.000  1.262542  0.000  0.000  0.700  0.000  0.000  0.700  0.000  0.000   \n",
      "AXP   0.700  0.000000  0.000  0.700  0.000  0.000  0.700  0.000  0.000  0.700   \n",
      "AMGN  0.000  2.250000  0.000  0.000  2.250  0.000  0.000  2.250  0.000  0.000   \n",
      "AMZN  0.000  0.000000  0.000  0.000  0.000  0.000  0.000  0.000  0.000  0.000   \n",
      "AAPL  0.000  0.240000  0.000  0.000  0.250  0.000  0.000  0.250  0.000  0.000   \n",
      "BA    0.000  0.000000  0.000  0.000  0.000  0.000  0.000  0.000  0.000  0.000   \n",
      "CAT   1.410  0.000000  0.000  1.300  0.000  0.000  1.410  0.000  0.000  1.410   \n",
      "CVX   0.000  1.630000  0.000  0.000  1.630  0.000  0.000  1.630  0.000  0.000   \n",
      "CSCO  0.400  0.000000  0.000  0.400  0.000  0.000  0.400  0.000  0.000  0.400   \n",
      "KO    0.000  0.000000  0.485  0.000  0.000  0.485  0.000  0.000  0.485  0.000   \n",
      "DIS   0.000  0.000000  0.000  0.000  0.000  0.000  0.450  0.000  0.000  0.000   \n",
      "GS    0.000  2.750000  0.000  0.000  2.750  0.000  0.000  3.000  0.000  0.000   \n",
      "HD    0.000  0.000000  2.250  0.000  2.250  0.000  0.000  2.250  0.000  0.000   \n",
      "HON   0.000  1.080000  0.000  0.000  1.080  0.000  0.000  1.080  0.000  0.000   \n",
      "IBM   0.000  1.660000  0.000  0.000  1.670  0.000  0.000  1.670  0.000  0.000   \n",
      "JNJ   0.000  1.190000  0.000  0.000  1.240  0.000  0.000  1.240  0.000  0.000   \n",
      "JPM   1.250  0.000000  0.000  1.150  0.000  0.000  1.150  0.000  0.000  1.250   \n",
      "MCD   0.000  1.670000  0.000  0.000  0.000  1.670  0.000  0.000  1.670  0.000   \n",
      "MRK   0.000  0.000000  0.770  0.000  0.000  0.770  0.000  0.000  0.770  0.000   \n",
      "MSFT  0.000  0.750000  0.000  0.000  0.750  0.000  0.000  0.750  0.000  0.000   \n",
      "NKE   0.000  0.000000  0.370  0.000  0.000  0.370  0.000  0.000  0.370  0.000   \n",
      "NVDA  0.000  0.000000  0.004  0.000  0.000  0.010  0.000  0.000  0.010  0.000   \n",
      "PG    1.007  0.000000  0.000  1.007  0.000  0.000  1.007  0.000  0.000  1.007   \n",
      "CRM   0.000  0.000000  0.400  0.000  0.000  0.000  0.400  0.000  0.400  0.000   \n",
      "SHW   0.000  0.715000  0.000  0.000  0.715  0.000  0.000  0.715  0.000  0.000   \n",
      "TRV   0.000  0.000000  1.000  0.000  0.000  1.050  0.000  0.000  1.050  0.000   \n",
      "UNH   0.000  0.000000  1.880  0.000  0.000  2.100  0.000  0.000  2.100  0.000   \n",
      "VZ    0.678  0.000000  0.000  0.665  0.000  0.000  0.665  0.000  0.000  0.678   \n",
      "V     0.000  0.520000  0.000  0.000  0.520  0.000  0.000  0.520  0.000  0.000   \n",
      "WMT   0.000  0.000000  0.208  0.000  0.208  0.000  0.000  0.208  0.000  0.000   \n",
      "\n",
      "        Nov    Dec  \n",
      "MMM   0.700  0.000  \n",
      "AXP   0.000  0.000  \n",
      "AMGN  2.250  0.000  \n",
      "AMZN  0.000  0.000  \n",
      "AAPL  0.250  0.000  \n",
      "BA    0.000  0.000  \n",
      "CAT   0.000  0.000  \n",
      "CVX   1.630  0.000  \n",
      "CSCO  0.000  0.000  \n",
      "KO    0.485  0.000  \n",
      "DIS   0.000  0.500  \n",
      "GS    0.000  3.000  \n",
      "HD    2.250  0.000  \n",
      "HON   1.130  0.000  \n",
      "IBM   1.670  0.000  \n",
      "JNJ   1.240  0.000  \n",
      "JPM   0.000  0.000  \n",
      "MCD   0.000  1.770  \n",
      "MRK   0.000  0.810  \n",
      "MSFT  0.830  0.000  \n",
      "NKE   0.000  0.400  \n",
      "NVDA  0.000  0.010  \n",
      "PG    0.000  0.000  \n",
      "CRM   0.000  0.400  \n",
      "SHW   0.715  0.000  \n",
      "TRV   0.000  1.050  \n",
      "UNH   0.000  2.100  \n",
      "VZ    0.000  0.000  \n",
      "V     0.590  0.000  \n",
      "WMT   0.000  0.208  \n"
     ]
    }
   ],
   "source": [
    "df.columns = [dt.date(1900,i,1).strftime(\"%b\") for i in df.columns]\n",
    "pprint(df)"
   ]
  },
  {
   "cell_type": "code",
   "execution_count": null,
   "id": "7142d6683cf0e05",
   "metadata": {},
   "outputs": [],
   "source": []
  }
 ],
 "metadata": {
  "kernelspec": {
   "display_name": "venv",
   "language": "python",
   "name": "python3"
  },
  "language_info": {
   "codemirror_mode": {
    "name": "ipython",
    "version": 3
   },
   "file_extension": ".py",
   "mimetype": "text/x-python",
   "name": "python",
   "nbconvert_exporter": "python",
   "pygments_lexer": "ipython3",
   "version": "3.12.0"
  }
 },
 "nbformat": 4,
 "nbformat_minor": 5
}
